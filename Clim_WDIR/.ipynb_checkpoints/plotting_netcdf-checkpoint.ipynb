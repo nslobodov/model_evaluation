{
 "cells": [
  {
   "cell_type": "code",
   "execution_count": 1,
   "id": "8072920e",
   "metadata": {},
   "outputs": [],
   "source": [
    "import matplotlib.pyplot as plt\n",
    "import seaborn as sns\n",
    "import numpy as np\n",
    "\n",
    "import xarray as xr\n",
    "import os\n",
    "import math as m"
   ]
  },
  {
   "cell_type": "code",
   "execution_count": 2,
   "id": "78829b56",
   "metadata": {},
   "outputs": [],
   "source": [
    "directory = \"E:/Climate/t6/\"\n",
    "file_list = np.array ([file for file in os.listdir(directory) if file.endswith('.nc')])\n",
    "# file_list"
   ]
  },
  {
   "cell_type": "code",
   "execution_count": null,
   "id": "cf849a5b",
   "metadata": {
    "scrolled": false
   },
   "outputs": [],
   "source": [
    "# Aggregating files\n",
    "file_dict = {}\n",
    "model_list = []\n",
    "for file in file_list:\n",
    "    dataset = xr.open_dataset(os.path.join(directory, file), decode_times=False)\n",
    "    file_dict[file] = dataset\n",
    "    if 'ERA5_t2m_1_2022_C' in file:\n",
    "         continue\n",
    "    model_list.append(file)\n",
    "# model_list\n",
    "# dict[file_list[0]]"
   ]
  },
  {
   "cell_type": "code",
   "execution_count": null,
   "id": "2ee3dbf7",
   "metadata": {
    "scrolled": false
   },
   "outputs": [],
   "source": [
    "# CORRELATIONS\n",
    "timcor = {}\n",
    "timmean = {}\n",
    "for file in model_list:\n",
    "    if 'timcor' in file:\n",
    "        timcor[file] = file_dict[file]\n",
    "    if 'timmean' in file:\n",
    "        timmean[file] = file_dict[file]['tas'][0][0][0]\n",
    "\n",
    "# timcor['timcor_tas_Amon_UKESM1-0-LL_ssp585_r1i1p1f2_185001-210012_r360x180_remap_C_regular_axis_year_anom_box.nc']"
   ]
  },
  {
   "cell_type": "code",
   "execution_count": null,
   "id": "9c4d73fe",
   "metadata": {},
   "outputs": [],
   "source": [
    "# Visualizing one timcor\n",
    "file = 'timcor_tas_Amon_UKESM1-0-LL_ssp585_r1i1p1f2_185001-210012_r360x180_remap_C_regular_axis_year_anom_box.nc'\n",
    "plt.title(file.split('_')[3], fontsize=12)\n",
    "plt.imshow(timcor[file][::-1],  vmin=-0.1, vmax=0.1, cmap='RdYlBu_r')\n",
    "\n",
    "plt.colorbar(orientation='horizontal')\n",
    "# plt.savefig(\"0.png\")"
   ]
  },
  {
   "cell_type": "code",
   "execution_count": null,
   "id": "660ec51f",
   "metadata": {},
   "outputs": [],
   "source": [
    "def data_disp (keyword, stopword, data_dict, name_value, timestep, columns, n_lat, n_lon, pos_in_filename, title,\n",
    "               scale_range, savefig, fig_name):\n",
    "\n",
    "    #### Displayig 25 timcors (data_dict)\n",
    "    if keyword == '' and stopword == '':\n",
    "        data_list = np.array([file for file in data_dict.keys()])\n",
    "    elif stopword == '':\n",
    "        data_list = np.array([file for file in data_dict.keys() if keyword in file])\n",
    "    else:\n",
    "        data_list = np.array([file for file in data_dict.keys() if (keyword in file and not stopword in file)])\n",
    "    n_subs = len(data_list)\n",
    "    fig, ax = plt.subplots(n_subs//columns, columns, figsize=(11.7, 8.3), layout='constrained')\n",
    "      \n",
    "    fig.suptitle (title, fontsize=14)\n",
    "\n",
    "    for i in range(n_subs):\n",
    "        row = i // columns\n",
    "        column = i % columns\n",
    "\n",
    "        name = data_list[i].split('_')[pos_in_filename]\n",
    "        array = data_dict[data_list[i]][name_value][timestep]\n",
    "        \n",
    "        if scale_range == 0:\n",
    "            plotted = ax[row, column].imshow(array[::-1], cmap='RdYlBu_r')\n",
    "        else:\n",
    "            plotted = ax[row, column].imshow(array[::-1],  vmin=-scale_range, vmax=scale_range, cmap='RdYlBu_r')\n",
    "        ax[row, column].set_title(name, fontsize=10)\n",
    "\n",
    "        if n_lat*n_lon != 0:\n",
    "            # Counting how to place ticks\n",
    "            longitudes = np.array (array['lon'], dtype='int')\n",
    "            latitudes = np.array (array['lat'][0:180]+0.5, dtype='int')\n",
    "            lon_step = len(longitudes)//(n_lon-1)\n",
    "            lat_step = m.ceil(len(latitudes)/(n_lat))\n",
    "\n",
    "            ax[row, column].tick_params(length=2, labelsize=6)\n",
    "            ax[row, column].set_xticks(np.arange(0, len(longitudes), lon_step))\n",
    "            ax[row, column].set_xticklabels(list(str(lon) + 'E' for lon in longitudes[::lon_step]))\n",
    "            ax[row, column].set_yticks(np.arange(0, len(latitudes), lat_step))\n",
    "            ax[row, column].set_yticklabels(list(str(lat) + 'N' for lat in latitudes[-1::-lat_step]))\n",
    "            ax[row, column].grid(color='black', linestyle='dashed', linewidth=0.5, alpha=0.2)\n",
    "\n",
    "    cbar = fig.colorbar(plotted, ax=ax, location='bottom', anchor=(0.5, 0), shrink=0.4, extend='both', orientation='horizontal')\n",
    "\n",
    "    plt.show()\n",
    "    if (savefig):    fig.savefig(fig_name)"
   ]
  },
  {
   "cell_type": "code",
   "execution_count": null,
   "id": "9e6b9497",
   "metadata": {},
   "outputs": [],
   "source": [
    "# Open 6 model outputs from my directory\n",
    "i = 0\n",
    "for file in file_dict.keys():\n",
    "    if ('_remap' in file and not 'C' in file):\n",
    "        print (file)\n",
    "        i+=1\n",
    "i"
   ]
  },
  {
   "cell_type": "code",
   "execution_count": null,
   "id": "fd12475a",
   "metadata": {},
   "outputs": [],
   "source": [
    "data_disp ('_remap', 'C', file_dict, 'tas', 0, 2, 0, 0, 2, t_timcor, 0, False, \"example_fig.png\")"
   ]
  },
  {
   "cell_type": "code",
   "execution_count": null,
   "id": "d6fb77f9",
   "metadata": {},
   "outputs": [],
   "source": [
    "# Open all timcors from directory\n",
    "i = 0\n",
    "for file in file_dict.keys():\n",
    "    if ('timcor' in file):\n",
    "        print (file)\n",
    "        i+=1\n",
    "i"
   ]
  },
  {
   "cell_type": "code",
   "execution_count": null,
   "id": "07e2734c",
   "metadata": {},
   "outputs": [],
   "source": [
    "data_disp ('timcor', '', file_dict, 'tas', 0, 5, 3, 4, 3, t_timcor, 0.1, False, \"example_fig.png\")"
   ]
  }
 ],
 "metadata": {
  "kernelspec": {
   "display_name": "Python 3 (ipykernel)",
   "language": "python",
   "name": "python3"
  },
  "language_info": {
   "codemirror_mode": {
    "name": "ipython",
    "version": 3
   },
   "file_extension": ".py",
   "mimetype": "text/x-python",
   "name": "python",
   "nbconvert_exporter": "python",
   "pygments_lexer": "ipython3",
   "version": "3.11.5"
  }
 },
 "nbformat": 4,
 "nbformat_minor": 5
}
